{
 "cells": [
  {
   "cell_type": "markdown",
   "metadata": {},
   "source": [
    "## 데이터 확인\n",
    "쇼핑하우 페이지로 이동해서 가져오려는 데이터를 확인합니다.\n",
    "**실행하는 시점에 따라 HOTDEAL로 제공하는 상품은 변경될 수 있습니다.**\n",
    "- https://shoppinghow.kakao.com/siso/p/hotdeal/list/"
   ]
  },
  {
   "cell_type": "markdown",
   "metadata": {},
   "source": [
    "<img src=\"image/00.png\" width=\"350\" height=\"250\" />"
   ]
  },
  {
   "cell_type": "markdown",
   "metadata": {},
   "source": [
    "메인 페이지 주소는 그대로인데 표현되는 데이터가 변경된다는 것은 웹 서버와 데이터를 여러 번에 걸쳐 주고 받는 다는 것을 예측할 수 있습니다. 실제로 다음 코드를 실행해 보면 핫딜 URL로 요청한 HTML에서 \"질슈트어트\"라는 데이터를 찾을 수 없습니다. "
   ]
  },
  {
   "cell_type": "code",
   "execution_count": 1,
   "metadata": {},
   "outputs": [
    {
     "name": "stdout",
     "output_type": "stream",
     "text": [
      "False\n"
     ]
    }
   ],
   "source": [
    "import requests\n",
    "\n",
    "url = \"https://shoppinghow.kakao.com/siso/p/hotdeal/list/\"\n",
    "resp = requests.get(url)\n",
    "\n",
    "print(\"질슈트어트\" in resp.text)"
   ]
  },
  {
   "cell_type": "markdown",
   "metadata": {},
   "source": [
    "## 데이터 분석\n",
    "크롬 개발자 도구를 실행하고 새로고침 (F5)을 눌러 페이지를 다시 로딩합니다. 주고 받은 요청과 응답에 \"질슈트어트\"라는 값이 들어 있는 항목을 검색합니다. shoppinghow.kakao.com/siso/p/api/hotdeal/list?contentseq=&_=1588650320893 이라는 요청에 원하는 데이터가 포함된 것을 확인할 수 있습니다. "
   ]
  },
  {
   "cell_type": "markdown",
   "metadata": {},
   "source": [
    "<img src=\"image/01.png\" width=\"400\" height=\"250\" />"
   ]
  },
  {
   "cell_type": "markdown",
   "metadata": {},
   "source": [
    "    검색된 항목의 요청을 파이썬으로 표현하면 Response Tab에 있는 다음 딕셔너리 형태의 문자열 (JSON)을 얻을 수 있겠죠?"
   ]
  },
  {
   "cell_type": "markdown",
   "metadata": {},
   "source": [
    "<img src=\"image/02.png\" width=\"400\" height=\"250\" />"
   ]
  },
  {
   "cell_type": "markdown",
   "metadata": {},
   "source": [
    "## 데이터 요청\n",
    "크롬 개발자 도구에서 분석한 요청사항을 파이썬으로 표현합니다. 얻어온 데이터에 \"질슈트어트\"가 포함된 것을 알 수 있습니다."
   ]
  },
  {
   "cell_type": "code",
   "execution_count": 3,
   "metadata": {},
   "outputs": [
    {
     "name": "stdout",
     "output_type": "stream",
     "text": [
      "True\n"
     ]
    }
   ],
   "source": [
    "import requests\n",
    "\n",
    "url = \"https://shoppinghow.kakao.com/siso/p/api/hotdeal/list?contentseq=&_=1588650320893\"\n",
    "resp = requests.get(url)\n",
    "\n",
    "print(\"질슈트어트\" in resp.text)"
   ]
  },
  {
   "cell_type": "markdown",
   "metadata": {},
   "source": [
    "## 데이터 파싱\n",
    "서버가 반환하는 데이터가 HTML이 아니라 JSON(딕셔너리 형태의 문자열)입니다. 따라서 BeautifulSoup 모듈을 사용할 필요 없이 Response 객체의 json() 메서드로 딕셔너리 변환합니다. "
   ]
  },
  {
   "cell_type": "code",
   "execution_count": 4,
   "metadata": {},
   "outputs": [
    {
     "name": "stdout",
     "output_type": "stream",
     "text": [
      "{'todayList': [{'contentseq': 1636494, 'imageUrl': '//shop2.daumcdn.net/shophow/c/image/content/set/ad8255/20200429153534087_708022', 'maxPrice': '59000', 'minPrice': '15000', 'discount': '75', 'title': '[질슈트어트 스포츠] 점퍼/티셔츠 리얼 1만원~', 'linkUrl': 'http://ammonia.daum.net/cptclick?contentseq=1636494&puid=77835244711543186&pagenum=1&impprodnum=24&contentnum=1&positionseq=41604&detailpositionseq=41591', 'shopId': 'halfclub', 'shopName': '하프클럽', 'onlyToday': 'onlytodayY'}], 'hotdealList': [{'contentseq': 1634575, 'imageUrl': '//shop1.daumcdn.net/shophow/c/image/content/set/ad8255/20200428104139063_74756', 'maxPrice': '47000', 'minPrice': '32900', 'title': '급 꽉낀 청바지! 살빼고싶어? 삼시3끼 ~7천원', 'linkUrl': 'http://ammonia.daum.net/cptclick?contentseq=1634575&puid=77835244711543186&pagenum=1&impprodnum=0&contentnum=1&positionseq=41604&detailpositionseq=41591', 'shopId': 'weightwinner', 'shopName': '날신완성'}, {'contentseq': 1634141, 'imageUrl': '//shop2.daumcdn.net/shophow/c/image/content/set/ad8255/20200402155702872_659764', 'maxPrice': '5000', 'minPrice': '4900', 'title': '실리콘 조리도구 1+1 이렇게 싸도돼?', 'linkUrl': 'http://ammonia.daum.net/cptclick?contentseq=1634141&puid=77835244711543186&pagenum=1&impprodnum=1&contentnum=1&positionseq=41604&detailpositionseq=41591', 'shopId': 'gmarket', 'shopName': 'G마켓'}, {'contentseq': 1636333, 'optpropname1': '무료배송', 'imageUrl': '//shop2.daumcdn.net/shophow/c/image/content/set/ad8255/20200504134024288_891749', 'minPrice': '79000', 'title': '다신없을기회! 성장영양제 1+1 초특가!', 'linkUrl': 'http://ammonia.daum.net/cptclick?contentseq=1636333&puid=77835244711543186&pagenum=1&impprodnum=2&contentnum=1&positionseq=41604&detailpositionseq=41591', 'shopId': 'longki119', 'shopName': '롱키원메딕스'}, {'contentseq': 1633767, 'optpropname1': '무료배송', 'imageUrl': '//shop2.daumcdn.net/shophow/c/image/content/set/ad8255/20200428105840635_375756', 'maxPrice': '239000', 'minPrice': '48000', 'discount': '80', 'title': '해피콜 양면팬 최저가 48,000원!', 'linkUrl': 'http://ammonia.daum.net/cptclick?contentseq=1633767&puid=77835244711543186&pagenum=1&impprodnum=3&contentnum=1&positionseq=41604&detailpositionseq=41591', 'shopId': 'wizwid', 'shopName': '위즈위드'}, {'contentseq': 1633838, 'optpropname1': '무료배송', 'imageUrl': '//shop2.daumcdn.net/shophow/c/image/content/set/ad8255/20200327111855319_228991', 'maxPrice': '20500', 'minPrice': '17900', 'title': '믿을 수 있는 물 삼다수 오프라인보다 싸다', 'linkUrl': 'http://ammonia.daum.net/cptclick?contentseq=1633838&puid=77835244711543186&pagenum=1&impprodnum=4&contentnum=1&positionseq=41604&detailpositionseq=41591', 'shopId': 'gmarket', 'shopName': 'G마켓'}, {'contentseq': 1635205, 'imageUrl': '//shop2.daumcdn.net/shophow/c/image/content/set/ad8255/20200429134006985_407325', 'maxPrice': '18000', 'minPrice': '13770', 'title': '어버이날 선물세트~! 닥스 양말3족 9종택1', 'linkUrl': 'http://ammonia.daum.net/cptclick?contentseq=1635205&puid=77835244711543186&pagenum=1&impprodnum=5&contentnum=1&positionseq=41604&detailpositionseq=41591', 'shopId': 'lgfashionshop', 'shopName': 'LFmall'}, {'contentseq': 1635928, 'optpropname1': '무료배송', 'imageUrl': '//shop2.daumcdn.net/shophow/c/image/content/set/ad8255/20200410153745951_742710', 'maxPrice': '149000', 'minPrice': '59900', 'discount': '60', 'title': '[60%↓]지금 구매하면 초초특가 서큘레이터!', 'linkUrl': 'http://ammonia.daum.net/cptclick?contentseq=1635928&puid=77835244711543186&pagenum=1&impprodnum=6&contentnum=1&positionseq=41604&detailpositionseq=41591', 'shopId': 'ablab', 'shopName': '올더라이프'}, {'contentseq': 1635706, 'optpropname1': '무료배송', 'imageUrl': '//shop2.daumcdn.net/shophow/c/image/content/set/ad8255/20200428153221507_116456', 'maxPrice': '19800', 'minPrice': '16900', 'title': '+예쁘고편한옷+ 여기 다있네~ 옷걱정끝!!', 'linkUrl': 'http://ammonia.daum.net/cptclick?contentseq=1635706&puid=77835244711543186&pagenum=1&impprodnum=7&contentnum=1&positionseq=41604&detailpositionseq=41591', 'shopId': 'auction', 'shopName': '옥션'}, {'contentseq': 1634640, 'imageUrl': '//shop1.daumcdn.net/shophow/c/image/content/set/ad8255/20200428180947597_65123', 'maxPrice': '44000', 'minPrice': '9900', 'discount': '78', 'title': '하루 한번 내몸을 위한 붉은에너지 크릴오일56!', 'linkUrl': 'http://ammonia.daum.net/cptclick?contentseq=1634640&puid=77835244711543186&pagenum=1&impprodnum=8&contentnum=1&positionseq=41604&detailpositionseq=41591', 'shopId': 'cf_about_goods', 'shopName': '어바웃굿즈'}, {'contentseq': 1633729, 'optpropname1': '무료배송', 'imageUrl': '//shop2.daumcdn.net/shophow/c/image/content/set/ad8255/20200416102339400_538405', 'minPrice': '4900', 'title': '제주 흑돼지 1+1+1 이 가격 가능해!?', 'linkUrl': 'http://ammonia.daum.net/cptclick?contentseq=1633729&puid=77835244711543186&pagenum=1&impprodnum=9&contentnum=1&positionseq=41604&detailpositionseq=41591', 'shopId': 'gmarket', 'shopName': 'G마켓'}, {'contentseq': 1633995, 'imageUrl': '//shop2.daumcdn.net/shophow/c/image/content/set/ad8255/20200428130704754_932408', 'maxPrice': '10000', 'minPrice': '1900', 'discount': '81', 'title': '들어봤죠? 어성초비누! 좁쌀 고민 하지마~', 'linkUrl': 'http://ammonia.daum.net/cptclick?contentseq=1633995&puid=77835244711543186&pagenum=1&impprodnum=10&contentnum=1&positionseq=41604&detailpositionseq=41591', 'shopId': 'ththerapy', 'shopName': '태현테라피'}, {'contentseq': 1634493, 'optpropname1': '무료배송', 'imageUrl': '//shop2.daumcdn.net/shophow/c/image/content/set/ad8255/20200407112704892_825360', 'maxPrice': '19900', 'minPrice': '15360', 'title': '오늘만 부채살이 1+1+1!! 놓치면안돼!!', 'linkUrl': 'http://ammonia.daum.net/cptclick?contentseq=1634493&puid=77835244711543186&pagenum=1&impprodnum=11&contentnum=1&positionseq=41604&detailpositionseq=41591', 'shopId': 'auction', 'shopName': '옥션'}, {'contentseq': 1636444, 'imageUrl': '//shop2.daumcdn.net/shophow/c/image/content/set/ad8255/20200409161122214_719466', 'maxPrice': '14900', 'minPrice': '10900', 'title': '풋필링 스프레이 뿌리고 쓱~문지르면 아기발돼', 'linkUrl': 'http://ammonia.daum.net/cptclick?contentseq=1636444&puid=77835244711543186&pagenum=1&impprodnum=12&contentnum=1&positionseq=41604&detailpositionseq=41591', 'shopId': 'korcare', 'shopName': '고려생활건강'}, {'contentseq': 1634499, 'optpropname1': '무료배송', 'imageUrl': '//shop2.daumcdn.net/shophow/c/image/content/set/ad8255/20200417134118744_728682', 'minPrice': '11900', 'title': '오쟁이떡 들어만 봤지 먹어보니 이것만 먹어~!!', 'linkUrl': 'http://ammonia.daum.net/cptclick?contentseq=1634499&puid=77835244711543186&pagenum=1&impprodnum=13&contentnum=1&positionseq=41604&detailpositionseq=41591', 'shopId': 'auction', 'shopName': '옥션'}, {'contentseq': 1632094, 'imageUrl': '//shop1.daumcdn.net/shophow/c/image/content/set/ad8255/20200326154529471_74179', 'minPrice': '39000', 'title': '정품시계 랜덤박스 한정판매', 'linkUrl': 'http://ammonia.daum.net/cptclick?contentseq=1632094&puid=77835244711543186&pagenum=1&impprodnum=14&contentnum=1&positionseq=41604&detailpositionseq=41591', 'shopId': 'tempes1695', 'shopName': '우주마켓'}, {'contentseq': 1634052, 'optpropname1': '무료배송', 'imageUrl': '//shop2.daumcdn.net/shophow/c/image/content/set/ad8255/20200428135501664_594928', 'maxPrice': '69800', 'minPrice': '39300', 'discount': '44', 'title': '고음질에 이 가격? 가성비 무선 이어폰 특가', 'linkUrl': 'http://ammonia.daum.net/cptclick?contentseq=1634052&puid=77835244711543186&pagenum=1&impprodnum=15&contentnum=1&positionseq=41604&detailpositionseq=41591', 'shopId': 'humanworks', 'shopName': '앱스토리'}, {'contentseq': 1634276, 'optpropname1': '무료배송', 'imageUrl': '//shop2.daumcdn.net/shophow/c/image/content/set/ad8255/20200428152948029_264767', 'maxPrice': '40900', 'minPrice': '30900', 'title': '아기도쓰는 물티슈!! 써도써도다못써~ ', 'linkUrl': 'http://ammonia.daum.net/cptclick?contentseq=1634276&puid=77835244711543186&pagenum=1&impprodnum=16&contentnum=1&positionseq=41604&detailpositionseq=41591', 'shopId': 'auction', 'shopName': '옥션'}, {'contentseq': 1634521, 'optpropname1': '무료배송', 'imageUrl': '//shop2.daumcdn.net/shophow/c/image/content/set/ad8255/20200409110626788_565837', 'maxPrice': '14900', 'minPrice': '14750', 'title': '사과맞아? 꿀맛이라 꿀인줄알았어!!', 'linkUrl': 'http://ammonia.daum.net/cptclick?contentseq=1634521&puid=77835244711543186&pagenum=1&impprodnum=17&contentnum=1&positionseq=41604&detailpositionseq=41591', 'shopId': 'auction', 'shopName': '옥션'}, {'contentseq': 1634908, 'optpropname1': '무료배송', 'imageUrl': '//shop2.daumcdn.net/shophow/c/image/content/set/ad8255/20200429110016013_946694', 'maxPrice': '40000', 'minPrice': '9900', 'discount': '75', 'title': '지오다노 선글라스 25종 균일가 찬스~!', 'linkUrl': 'http://ammonia.daum.net/cptclick?contentseq=1634908&puid=77835244711543186&pagenum=1&impprodnum=18&contentnum=1&positionseq=41604&detailpositionseq=41591', 'shopId': 'cf_stock11', 'shopName': '아이스탁몰'}, {'contentseq': 1634929, 'optpropname1': '무료배송', 'imageUrl': '//shop2.daumcdn.net/shophow/c/image/content/set/ad8255/20200429111522824_948251', 'maxPrice': '16900', 'minPrice': '10900', 'title': '난리난+거북손+ 먹자마자반했어! 바로주문해~', 'linkUrl': 'http://ammonia.daum.net/cptclick?contentseq=1634929&puid=77835244711543186&pagenum=1&impprodnum=19&contentnum=1&positionseq=41604&detailpositionseq=41591', 'shopId': 'auction', 'shopName': '옥션'}, {'contentseq': 1634541, 'optpropname1': '무료배송', 'imageUrl': '//shop2.daumcdn.net/shophow/c/image/content/set/ad8255/20200417140009904_715493', 'maxPrice': '19300', 'minPrice': '5900', 'discount': '69', 'title': '비너스 속옷 절찬리 할인중!! 고민하면품절~', 'linkUrl': 'http://ammonia.daum.net/cptclick?contentseq=1634541&puid=77835244711543186&pagenum=1&impprodnum=20&contentnum=1&positionseq=41604&detailpositionseq=41591', 'shopId': 'auction', 'shopName': '옥션'}, {'contentseq': 1634550, 'optpropname1': '무료배송', 'imageUrl': '//shop2.daumcdn.net/shophow/c/image/content/set/ad8255/20200424171936478_649361', 'maxPrice': '11800', 'minPrice': '11740', 'title': '오늘 단하루 목살 900g 1만1천원대 특가!', 'linkUrl': 'http://ammonia.daum.net/cptclick?contentseq=1634550&puid=77835244711543186&pagenum=1&impprodnum=21&contentnum=1&positionseq=41604&detailpositionseq=41591', 'shopId': 'auction', 'shopName': '옥션'}, {'contentseq': 1634919, 'optpropname1': '무료배송', 'imageUrl': '//shop2.daumcdn.net/shophow/c/image/content/set/ad8255/20200429110749668_828198', 'maxPrice': '29300', 'minPrice': '26800', 'title': '락앤락냄비가 1+1 !! 놓칠수없는 마지막기회!!', 'linkUrl': 'http://ammonia.daum.net/cptclick?contentseq=1634919&puid=77835244711543186&pagenum=1&impprodnum=22&contentnum=1&positionseq=41604&detailpositionseq=41591', 'shopId': 'auction', 'shopName': '옥션'}, {'contentseq': 1634855, 'imageUrl': '//shop2.daumcdn.net/shophow/c/image/content/set/ad8255/20200414143443844_485197', 'maxPrice': '79000', 'minPrice': '19900', 'discount': '75', 'title': '가마솥의 깊은맛~인덕션도 가능해!통스텐가마솥', 'linkUrl': 'http://ammonia.daum.net/cptclick?contentseq=1634855&puid=77835244711543186&pagenum=1&impprodnum=23&contentnum=1&positionseq=41604&detailpositionseq=41591', 'shopId': 'wzoo', 'shopName': '리빙픽'}, {'contentseq': 1633514, 'imageUrl': '//shop2.daumcdn.net/shophow/c/image/content/set/ad8255/20200409141045115_264510', 'maxPrice': '19900', 'minPrice': '14900', 'title': '만든사람 천재아냐? 혁신적 폰스트랩', 'linkUrl': 'http://ammonia.daum.net/cptclick?contentseq=1633514&puid=77835244711543186&pagenum=1&impprodnum=25&contentnum=1&positionseq=41604&detailpositionseq=41591', 'shopId': 'pacc1', 'shopName': '폰뿌'}, {'contentseq': 1635034, 'optpropname1': '무료배송', 'imageUrl': '//shop2.daumcdn.net/shophow/c/image/content/set/ad8255/20200429115140899_232112', 'maxPrice': '55000', 'minPrice': '34900', 'title': '입기만해도 땀이 줄줄~찜질수트! 깜짝 놀랐어~', 'linkUrl': 'http://ammonia.daum.net/cptclick?contentseq=1635034&puid=77835244711543186&pagenum=1&impprodnum=26&contentnum=1&positionseq=41604&detailpositionseq=41591', 'shopId': 'ibeautylab', 'shopName': '아이뷰티랩'}, {'contentseq': 1635307, 'optpropname1': '무료배송', 'imageUrl': '//shop2.daumcdn.net/shophow/c/image/content/set/ad8255/20200429144341043_486569', 'maxPrice': '194400', 'minPrice': '88400', 'discount': '55', 'title': '[체지방감소+쾌변] 다이어트바이바이 한정 2+1', 'linkUrl': 'http://ammonia.daum.net/cptclick?contentseq=1635307&puid=77835244711543186&pagenum=1&impprodnum=27&contentnum=1&positionseq=41604&detailpositionseq=41591', 'shopId': 'dietbyebye', 'shopName': '바이바이'}, {'contentseq': 1634430, 'imageUrl': '//shop2.daumcdn.net/shophow/c/image/content/set/ad8255/20200417133311361_187599', 'maxPrice': '8900', 'minPrice': '5750', 'title': 'LA갈비 단하루 5천원대! 놓치면 다시 안와~', 'linkUrl': 'http://ammonia.daum.net/cptclick?contentseq=1634430&puid=77835244711543186&pagenum=1&impprodnum=28&contentnum=1&positionseq=41604&detailpositionseq=41591', 'shopId': 'auction', 'shopName': '옥션'}, {'contentseq': 1634130, 'optpropname1': '무료배송', 'imageUrl': '//shop2.daumcdn.net/shophow/c/image/content/set/ad8255/20200410135638655_112857', 'maxPrice': '10350', 'minPrice': '6900', 'title': '2020년 첫수확 햇감자 싸도 너~무싸다!!', 'linkUrl': 'http://ammonia.daum.net/cptclick?contentseq=1634130&puid=77835244711543186&pagenum=1&impprodnum=29&contentnum=1&positionseq=41604&detailpositionseq=41591', 'shopId': 'gmarket', 'shopName': 'G마켓'}, {'contentseq': 1635242, 'optpropname1': '무료배송', 'imageUrl': '//shop1.daumcdn.net/shophow/c/image/content/set/ad8255/20200428140528172_22424', 'maxPrice': '110000', 'minPrice': '65900', 'discount': '40', 'title': '요즘 꼭 필요해! 다용도 사이드테이블 침대도ok', 'linkUrl': 'http://ammonia.daum.net/cptclick?contentseq=1635242&puid=77835244711543186&pagenum=1&impprodnum=30&contentnum=1&positionseq=41604&detailpositionseq=41591', 'shopId': 'balggurak', 'shopName': '바네스데코'}, {'contentseq': 1634004, 'optpropname1': '무료배송', 'imageUrl': '//shop2.daumcdn.net/shophow/c/image/content/set/ad8255/20200427145219746_595025', 'maxPrice': '12900', 'minPrice': '35000', 'title': '[엘칸토]여름을 위한 샌들 초특가할인', 'linkUrl': 'http://ammonia.daum.net/cptclick?contentseq=1634004&puid=77835244711543186&pagenum=1&impprodnum=31&contentnum=1&positionseq=41604&detailpositionseq=41591', 'shopId': 'gmarket', 'shopName': 'G마켓'}, {'contentseq': 1633870, 'optpropname1': '무료배송', 'imageUrl': '//shop2.daumcdn.net/shophow/c/image/content/set/ad8255/20200407140826573_147544', 'maxPrice': '141000', 'minPrice': '76800', 'discount': '46', 'title': '다이어트? 이거 강력추천 안먹은걸로쓱 2+1', 'linkUrl': 'http://ammonia.daum.net/cptclick?contentseq=1633870&puid=77835244711543186&pagenum=1&impprodnum=32&contentnum=1&positionseq=41604&detailpositionseq=41591', 'shopId': 'sichime', 'shopName': '시치미 뚝'}, {'contentseq': 1635314, 'imageUrl': '//shop2.daumcdn.net/shophow/c/image/content/set/ad8255/20200429144041957_279489', 'maxPrice': '48000', 'minPrice': '18240', 'discount': '62', 'title': '어린이날선물~! 헤지스 아동 캔버스화 ', 'linkUrl': 'http://ammonia.daum.net/cptclick?contentseq=1635314&puid=77835244711543186&pagenum=1&impprodnum=33&contentnum=1&positionseq=41604&detailpositionseq=41591', 'shopId': 'lgfashionshop', 'shopName': 'LFmall'}, {'contentseq': 1634427, 'optpropname1': '무료배송', 'imageUrl': '//shop2.daumcdn.net/shophow/c/image/content/set/ad8255/20200428161454010_344690', 'maxPrice': '38000', 'minPrice': '34900', 'title': '너를 돋보이게 만들어 줄 원피스 다있어~', 'linkUrl': 'http://ammonia.daum.net/cptclick?contentseq=1634427&puid=77835244711543186&pagenum=1&impprodnum=34&contentnum=1&positionseq=41604&detailpositionseq=41591', 'shopId': 'gmarket', 'shopName': 'G마켓'}, {'contentseq': 1635288, 'optpropname1': '무료배송', 'imageUrl': '//shop2.daumcdn.net/shophow/c/image/content/set/ad8255/20200429143206382_8203', 'maxPrice': '25000', 'minPrice': '12500', 'discount': '50', 'title': '감사대전! 부모님 참존 기초선물세트~! 무배', 'linkUrl': 'http://ammonia.daum.net/cptclick?contentseq=1635288&puid=77835244711543186&pagenum=1&impprodnum=35&contentnum=1&positionseq=41604&detailpositionseq=41591', 'shopId': 'lgfashionshop', 'shopName': 'LFmall'}, {'contentseq': 1633869, 'optpropname1': '무료배송', 'imageUrl': '//shop2.daumcdn.net/shophow/c/image/content/set/ad8255/20200228165257008_416859', 'maxPrice': '147000', 'minPrice': '88400', 'title': '단기간 다이어트는? 안먹은걸로 40%↓', 'linkUrl': 'http://ammonia.daum.net/cptclick?contentseq=1633869&puid=77835244711543186&pagenum=1&impprodnum=36&contentnum=1&positionseq=41604&detailpositionseq=41591', 'shopId': 'sichime', 'shopName': '시치미 뚝'}, {'contentseq': 1635984, 'optpropname1': '무료배송', 'imageUrl': '//shop2.daumcdn.net/shophow/c/image/content/set/ad8255/20200504084500042_876915', 'maxPrice': '30000', 'minPrice': '9900', 'discount': '67', 'title': '씻었을뿐인데! 좁쌀사라지네~ 호랑이비누1+1', 'linkUrl': 'http://ammonia.daum.net/cptclick?contentseq=1635984&puid=77835244711543186&pagenum=1&impprodnum=37&contentnum=1&positionseq=41604&detailpositionseq=41591', 'shopId': 'cf_label7014', 'shopName': '라벨영'}, {'contentseq': 1634126, 'optpropname1': '무료배송', 'imageUrl': '//shop2.daumcdn.net/shophow/c/image/content/set/ad8255/20200428131348612_599688', 'maxPrice': '11900', 'minPrice': '11840', 'title': '이렇게 탱글탱글한 방울토마토는 처음이야~', 'linkUrl': 'http://ammonia.daum.net/cptclick?contentseq=1634126&puid=77835244711543186&pagenum=1&impprodnum=38&contentnum=1&positionseq=41604&detailpositionseq=41591', 'shopId': 'gmarket', 'shopName': 'G마켓'}, {'contentseq': 1635708, 'optpropname1': '무료배송', 'imageUrl': '//shop2.daumcdn.net/shophow/c/image/content/set/ad8255/20200428171807183_171202', 'maxPrice': '29900', 'minPrice': '10900', 'discount': '64', 'title': '틀니세정제로 항상새것같이~!! 빅세일중!', 'linkUrl': 'http://ammonia.daum.net/cptclick?contentseq=1635708&puid=77835244711543186&pagenum=1&impprodnum=39&contentnum=1&positionseq=41604&detailpositionseq=41591', 'shopId': 'auction', 'shopName': '옥션'}, {'contentseq': 1635134, 'imageUrl': '//shop2.daumcdn.net/shophow/c/image/content/set/ad8255/20200429132747545_394149', 'maxPrice': '56000', 'minPrice': '17000', 'discount': '70', 'title': '반짝반짝 선물~! 끄란느14K포인트귀걸이 특가', 'linkUrl': 'http://ammonia.daum.net/cptclick?contentseq=1635134&puid=77835244711543186&pagenum=1&impprodnum=40&contentnum=1&positionseq=41604&detailpositionseq=41591', 'shopId': 'lgfashionshop', 'shopName': 'LFmall'}, {'contentseq': 1635305, 'optpropname1': '무료배송', 'imageUrl': '//shop2.daumcdn.net/shophow/c/image/content/set/ad8255/20200428143241567_473710', 'minPrice': '9900', 'title': '통통바지락 1Kg~오늘 마지막한정! 무배특가!', 'linkUrl': 'http://ammonia.daum.net/cptclick?contentseq=1635305&puid=77835244711543186&pagenum=1&impprodnum=41&contentnum=1&positionseq=41604&detailpositionseq=41591', 'shopId': 'gmarket', 'shopName': 'G마켓'}, {'contentseq': 1634561, 'optpropname1': '무료배송', 'imageUrl': '//shop2.daumcdn.net/shophow/c/image/content/set/ad8255/20200407123021691_250050', 'maxPrice': '17900', 'minPrice': '17180', 'title': ' 이게카라향? 이거 요즘 맛있어서난리야~!!', 'linkUrl': 'http://ammonia.daum.net/cptclick?contentseq=1634561&puid=77835244711543186&pagenum=1&impprodnum=42&contentnum=1&positionseq=41604&detailpositionseq=41591', 'shopId': 'auction', 'shopName': '옥션'}, {'contentseq': 1634442, 'optpropname1': '무료배송', 'imageUrl': '//shop2.daumcdn.net/shophow/c/image/content/set/ad8255/20200406113310841_657198', 'maxPrice': '8900', 'minPrice': '8850', 'title': '건강사세요~ 전복이 8900!! 놓치면안돼!!', 'linkUrl': 'http://ammonia.daum.net/cptclick?contentseq=1634442&puid=77835244711543186&pagenum=1&impprodnum=43&contentnum=1&positionseq=41604&detailpositionseq=41591', 'shopId': 'auction', 'shopName': '옥션'}, {'contentseq': 1624229, 'imageUrl': '//shop2.daumcdn.net/shophow/c/image/content/set/ad8255/20200407162455942_176356', 'minPrice': '13900', 'title': '인기음료 착한가격 2시이전 주문시  당일출고', 'linkUrl': 'http://ammonia.daum.net/cptclick?contentseq=1624229&puid=77835244711543186&pagenum=1&impprodnum=44&contentnum=1&positionseq=41604&detailpositionseq=41591', 'shopId': '24yj00', 'shopName': '중앙몰'}, {'contentseq': 1634916, 'optpropname1': '무료배송', 'imageUrl': '//shop1.daumcdn.net/shophow/c/image/content/set/ad8255/20200429110449723_26098', 'maxPrice': '28900', 'minPrice': '18900', 'title': '지금 엄청싼 홍게사세요~ 지금아님 못먹어~!!', 'linkUrl': 'http://ammonia.daum.net/cptclick?contentseq=1634916&puid=77835244711543186&pagenum=1&impprodnum=45&contentnum=1&positionseq=41604&detailpositionseq=41591', 'shopId': 'auction', 'shopName': '옥션'}, {'contentseq': 1635374, 'imageUrl': '//shop2.daumcdn.net/shophow/c/image/content/set/ad8255/20200319122802584_520369', 'minPrice': '25000', 'title': '+KF마스크 10매+ 지금 사면 손소독제도!', 'linkUrl': 'http://ammonia.daum.net/cptclick?contentseq=1635374&puid=77835244711543186&pagenum=1&impprodnum=46&contentnum=1&positionseq=41604&detailpositionseq=41591', 'shopId': '11st', 'shopName': '11번가'}, {'contentseq': 1634006, 'optpropname1': '무료배송', 'imageUrl': '//shop2.daumcdn.net/shophow/c/image/content/set/ad8255/20200427133243603_518469', 'minPrice': '7840', 'title': '공기정화식물 1+1이라니!? 내마음녹아~', 'linkUrl': 'http://ammonia.daum.net/cptclick?contentseq=1634006&puid=77835244711543186&pagenum=1&impprodnum=47&contentnum=1&positionseq=41604&detailpositionseq=41591', 'shopId': 'gmarket', 'shopName': 'G마켓'}, {'contentseq': 1636441, 'imageUrl': '//shop2.daumcdn.net/shophow/c/image/content/set/ad8255/20200504161034404_906025', 'maxPrice': '20000', 'minPrice': '9900', 'discount': '50', 'title': '수면중 이갈이STOP! 딥슬립피스로 딥슬립해', 'linkUrl': 'http://ammonia.daum.net/cptclick?contentseq=1636441&puid=77835244711543186&pagenum=1&impprodnum=48&contentnum=1&positionseq=41604&detailpositionseq=41591', 'shopId': 'korcare', 'shopName': '고려생활건강'}, {'contentseq': 1634502, 'optpropname1': '무료배송', 'imageUrl': '//shop2.daumcdn.net/shophow/c/image/content/set/ad8255/20200417134529347_338747', 'maxPrice': '31350', 'minPrice': '20900', 'title': '요즘 활 꼴뚜기너무맛있어!! 지금 사둬야해!!', 'linkUrl': 'http://ammonia.daum.net/cptclick?contentseq=1634502&puid=77835244711543186&pagenum=1&impprodnum=49&contentnum=1&positionseq=41604&detailpositionseq=41591', 'shopId': 'auction', 'shopName': '옥션'}, {'contentseq': 1635499, 'optpropname1': '무료배송', 'imageUrl': '//shop2.daumcdn.net/shophow/c/image/content/set/ad8255/20200428161842588_752488', 'maxPrice': '29600', 'minPrice': '8900', 'discount': '70', 'title': '30수 고급 반팔 1+1+1 기본으로 딱이야!', 'linkUrl': 'http://ammonia.daum.net/cptclick?contentseq=1635499&puid=77835244711543186&pagenum=1&impprodnum=50&contentnum=1&positionseq=41604&detailpositionseq=41591', 'shopId': 'gmarket', 'shopName': 'G마켓'}, {'contentseq': 1635931, 'optpropname1': '무료배송', 'imageUrl': '//shop1.daumcdn.net/shophow/c/image/content/set/ad8255/20200427121354998_22951', 'maxPrice': '61260', 'minPrice': '40440', 'title': '[1+1] 50억마리 유산균의 힘! 자로우포뮬러스', 'linkUrl': 'http://ammonia.daum.net/cptclick?contentseq=1635931&puid=77835244711543186&pagenum=1&impprodnum=51&contentnum=1&positionseq=41604&detailpositionseq=41591', 'shopId': 'qoo10', 'shopName': '큐텐'}, {'contentseq': 1634065, 'optpropname1': '무료배송', 'imageUrl': '//shop2.daumcdn.net/shophow/c/image/content/set/ad8255/20200428135812490_343986', 'maxPrice': '45000', 'minPrice': '29300', 'title': '변기보다 더러운 칫솔+면도기 No! 무선 살균기', 'linkUrl': 'http://ammonia.daum.net/cptclick?contentseq=1634065&puid=77835244711543186&pagenum=1&impprodnum=52&contentnum=1&positionseq=41604&detailpositionseq=41591', 'shopId': 'humanworks', 'shopName': '앱스토리'}, {'contentseq': 1633833, 'optpropname1': '무료배송', 'imageUrl': '//shop2.daumcdn.net/shophow/c/image/content/set/ad8255/20200423122929108_513622', 'maxPrice': '6900', 'minPrice': '6840', 'title': '세~상 너무 부드러운 행주 20장에 이가격!!', 'linkUrl': 'http://ammonia.daum.net/cptclick?contentseq=1633833&puid=77835244711543186&pagenum=1&impprodnum=53&contentnum=1&positionseq=41604&detailpositionseq=41591', 'shopId': 'gmarket', 'shopName': 'G마켓'}, {'contentseq': 1633874, 'optpropname1': '무료배송', 'imageUrl': '//shop2.daumcdn.net/shophow/c/image/content/set/ad8255/20200428114356841_913886', 'maxPrice': '182000', 'minPrice': '98600', 'discount': '46', 'title': '체지방차단X2 +기초대사량증가 안먹은걸로레드', 'linkUrl': 'http://ammonia.daum.net/cptclick?contentseq=1633874&puid=77835244711543186&pagenum=1&impprodnum=54&contentnum=1&positionseq=41604&detailpositionseq=41591', 'shopId': 'sichime', 'shopName': '시치미 뚝'}, {'contentseq': 1635250, 'optpropname1': '무료배송', 'imageUrl': '//shop2.daumcdn.net/shophow/c/image/content/set/ad8255/20200428092212310_615377', 'maxPrice': '498000', 'minPrice': '249000', 'discount': '50', 'title': '입소문난 제품 이가격맞아? LED마스크 50%', 'linkUrl': 'http://ammonia.daum.net/cptclick?contentseq=1635250&puid=77835244711543186&pagenum=1&impprodnum=55&contentnum=1&positionseq=41604&detailpositionseq=41591', 'shopId': 'magicsticker', 'shopName': '닥터포텐'}, {'contentseq': 1634934, 'optpropname1': '무료배송', 'imageUrl': '//shop2.daumcdn.net/shophow/c/image/content/set/ad8255/20200429111846904_839315', 'minPrice': '13600', 'title': '등갈비로 온가족대만족!! 지금 1+1+1', 'linkUrl': 'http://ammonia.daum.net/cptclick?contentseq=1634934&puid=77835244711543186&pagenum=1&impprodnum=56&contentnum=1&positionseq=41604&detailpositionseq=41591', 'shopId': 'auction', 'shopName': '옥션'}, {'contentseq': 1634858, 'optpropname1': '무료배송', 'imageUrl': '//shop2.daumcdn.net/shophow/c/image/content/set/ad8255/20200429104750815_824749', 'maxPrice': '29900', 'minPrice': '19900', 'title': '흰머리 감쪽커버!샴푸해도 그대로~새치커버틴트', 'linkUrl': 'http://ammonia.daum.net/cptclick?contentseq=1634858&puid=77835244711543186&pagenum=1&impprodnum=57&contentnum=1&positionseq=41604&detailpositionseq=41591', 'shopId': 'ibeautylab', 'shopName': '아이뷰티랩'}, {'contentseq': 1634429, 'optpropname1': '무료배송', 'imageUrl': '//shop2.daumcdn.net/shophow/c/image/content/set/ad8255/20200428161630256_906552', 'maxPrice': '52000', 'minPrice': '46800', 'title': '[록시땅]오직여기서만! 선물포장에 사은품까지!', 'linkUrl': 'http://ammonia.daum.net/cptclick?contentseq=1634429&puid=77835244711543186&pagenum=1&impprodnum=58&contentnum=1&positionseq=41604&detailpositionseq=41591', 'shopId': 'gmarket', 'shopName': 'G마켓'}, {'contentseq': 1636547, 'optpropname1': '무료배송', 'imageUrl': '//shop2.daumcdn.net/shophow/c/image/content/set/ad8255/20200504141255791_501276', 'maxPrice': '24800', 'minPrice': '19800', 'title': '치석, 냄새고민 해결! 잇몸간식 최대40%할인', 'linkUrl': 'http://ammonia.daum.net/cptclick?contentseq=1636547&puid=77835244711543186&pagenum=1&impprodnum=59&contentnum=1&positionseq=41604&detailpositionseq=41591', 'shopId': 'a1comm', 'shopName': '견사돌'}, {'contentseq': 1633999, 'optpropname1': '무료배송', 'imageUrl': '//shop2.daumcdn.net/shophow/c/image/content/set/ad8255/20200417103654320_324879', 'maxPrice': '27800', 'minPrice': '13900', 'discount': '50', 'title': '프리미엄 물티슈 120매x20캡 단돈 이가격!', 'linkUrl': 'http://ammonia.daum.net/cptclick?contentseq=1633999&puid=77835244711543186&pagenum=1&impprodnum=60&contentnum=1&positionseq=41604&detailpositionseq=41591', 'shopId': 'gmarket', 'shopName': 'G마켓'}, {'contentseq': 1634005, 'imageUrl': '//shop2.daumcdn.net/shophow/c/image/content/set/ad8255/20200427143643238_877196', 'maxPrice': '26900', 'minPrice': '17500', 'title': '내 한끼를 책임져줄 맛있는 오뚜기밥 24개!', 'linkUrl': 'http://ammonia.daum.net/cptclick?contentseq=1634005&puid=77835244711543186&pagenum=1&impprodnum=61&contentnum=1&positionseq=41604&detailpositionseq=41591', 'shopId': 'gmarket', 'shopName': 'G마켓'}, {'contentseq': 1632092, 'imageUrl': '//shop2.daumcdn.net/shophow/c/image/content/set/ad8255/20200326154643865_676351', 'minPrice': '30000', 'title': '정품향수 랜덤박스 한정판매', 'linkUrl': 'http://ammonia.daum.net/cptclick?contentseq=1632092&puid=77835244711543186&pagenum=1&impprodnum=62&contentnum=1&positionseq=41604&detailpositionseq=41591', 'shopId': 'tempes1695', 'shopName': '우주마켓'}, {'contentseq': 1634132, 'optpropname1': '무료배송', 'imageUrl': '//shop2.daumcdn.net/shophow/c/image/content/set/ad8255/20200428131235467_471363', 'minPrice': '10900', 'title': '써본사람아니면몰라 심리스브라 4세트 초특가!!', 'linkUrl': 'http://ammonia.daum.net/cptclick?contentseq=1634132&puid=77835244711543186&pagenum=1&impprodnum=63&contentnum=1&positionseq=41604&detailpositionseq=41591', 'shopId': 'gmarket', 'shopName': 'G마켓'}, {'contentseq': 1634523, 'optpropname1': '무료배송', 'imageUrl': '//shop2.daumcdn.net/shophow/c/image/content/set/ad8255/20200421123353321_520537', 'maxPrice': '5500', 'minPrice': '5380', 'title': '너무 단 약단밤!! 이기회에 또없어!!', 'linkUrl': 'http://ammonia.daum.net/cptclick?contentseq=1634523&puid=77835244711543186&pagenum=1&impprodnum=64&contentnum=1&positionseq=41604&detailpositionseq=41591', 'shopId': 'auction', 'shopName': '옥션'}, {'contentseq': 1634909, 'optpropname1': '무료배송', 'imageUrl': '//shop2.daumcdn.net/shophow/c/image/content/set/ad8255/20200417102708294_847129', 'maxPrice': '130000', 'minPrice': '48900', 'discount': '62', 'title': '[금강제화] 인기 캐주얼화 사이즈교환 1회무료!', 'linkUrl': 'http://ammonia.daum.net/cptclick?contentseq=1634909&puid=77835244711543186&pagenum=1&impprodnum=65&contentnum=1&positionseq=41604&detailpositionseq=41591', 'shopId': 'cf_stock11', 'shopName': '아이스탁몰'}, {'contentseq': 1633842, 'imageUrl': '//shop2.daumcdn.net/shophow/c/image/content/set/ad8255/20200331111553241_972503', 'minPrice': '6900', 'title': '[아디다스] 반바지만 다 모았어! 가격에 반해', 'linkUrl': 'http://ammonia.daum.net/cptclick?contentseq=1633842&puid=77835244711543186&pagenum=1&impprodnum=66&contentnum=1&positionseq=41604&detailpositionseq=41591', 'shopId': 'gmarket', 'shopName': 'G마켓'}, {'contentseq': 1634069, 'optpropname1': '무료배송', 'imageUrl': '//shop2.daumcdn.net/shophow/c/image/content/set/ad8255/20200327144130919_9766', 'maxPrice': '19900', 'minPrice': '17500', 'title': '장기화되니까 두고두고 써! [3중마스크x50개]', 'linkUrl': 'http://ammonia.daum.net/cptclick?contentseq=1634069&puid=77835244711543186&pagenum=1&impprodnum=67&contentnum=1&positionseq=41604&detailpositionseq=41591', 'shopId': 'gmarket', 'shopName': 'G마켓'}]}\n"
     ]
    }
   ],
   "source": [
    "result = resp.json()\n",
    "print(result)"
   ]
  },
  {
   "cell_type": "markdown",
   "metadata": {},
   "source": [
    "반복문으로 데이터를 하나씩 출력하면 다음과 같습니다. "
   ]
  },
  {
   "cell_type": "code",
   "execution_count": 5,
   "metadata": {},
   "outputs": [
    {
     "name": "stdout",
     "output_type": "stream",
     "text": [
      "[질슈트어트 스포츠] 점퍼/티셔츠 리얼 1만원~ 15000\n"
     ]
    }
   ],
   "source": [
    "for item in result['todayList']:\n",
    "    print(item['title'], item['minPrice'])"
   ]
  },
  {
   "cell_type": "markdown",
   "metadata": {},
   "source": [
    "실시간 HotDeal을 체크하는 코드는 다음과 같습니다. while문을 사용하면 계속해서 가격을 조회 합니다. 예제 코드에서는 5번만 가격을 조회합니다. "
   ]
  },
  {
   "cell_type": "code",
   "execution_count": 6,
   "metadata": {},
   "outputs": [
    {
     "name": "stdout",
     "output_type": "stream",
     "text": [
      "[질슈트어트 스포츠] 점퍼/티셔츠 리얼 1만원~ 15000\n",
      "[질슈트어트 스포츠] 점퍼/티셔츠 리얼 1만원~ 15000\n",
      "[질슈트어트 스포츠] 점퍼/티셔츠 리얼 1만원~ 15000\n",
      "[질슈트어트 스포츠] 점퍼/티셔츠 리얼 1만원~ 15000\n",
      "[질슈트어트 스포츠] 점퍼/티셔츠 리얼 1만원~ 15000\n"
     ]
    }
   ],
   "source": [
    "import requests\n",
    "import time\n",
    "\n",
    "# while 문을 사용하면 무한히 대기 함\n",
    "# while True:\n",
    "\n",
    "# 5번 만 반복 조회\n",
    "for i in range(5):\n",
    "    url = \"https://shoppinghow.kakao.com/siso/p/api/hotdeal/list?contentseq=&_=1588650320893\"\n",
    "    resp = requests.get(url)\n",
    "    \n",
    "    # 첫 번째 Deal만 가져옴\n",
    "    item = result['todayList'][0]\n",
    "    print(item['title'], item['minPrice'])\n",
    "    \n",
    "    # 3초 Delay\n",
    "    time.sleep(3)    "
   ]
  },
  {
   "cell_type": "markdown",
   "metadata": {},
   "source": [
    "품목이 변경될 경우에만 알림을 보내고 싶다면 다음과 같이 코드를 수정하면 됩니다. 핵심은 이전 값을 변수(prev_item)에 저장하고 현재 스크래핑한 값과 비교하는 코드입니다."
   ]
  },
  {
   "cell_type": "code",
   "execution_count": 7,
   "metadata": {},
   "outputs": [
    {
     "name": "stdout",
     "output_type": "stream",
     "text": [
      "[질슈트어트 스포츠] 점퍼/티셔츠 리얼 1만원~ 15000\n"
     ]
    }
   ],
   "source": [
    "import requests\n",
    "import time\n",
    "\n",
    "prev_item = None\n",
    "\n",
    "# 5번 만 반복 조회\n",
    "for i in range(5):\n",
    "    url = \"https://shoppinghow.kakao.com/siso/p/api/hotdeal/list?contentseq=&_=1588650320893\"\n",
    "    resp = requests.get(url)\n",
    "    \n",
    "    # 첫 번째 Deal만 가져옴\n",
    "    item = result['todayList'][0]\n",
    "    \n",
    "    # 이전 값과 비교해서 다를 경우 값을 출력함\n",
    "    # - 이전 값이 없다면 prev_item = None\n",
    "    if (prev_item is None) or prev_item != item['title']:\n",
    "        prev_item = item['title']\n",
    "        print(item['title'], item['minPrice'])    \n",
    "    \n",
    "    # 3초 Delay\n",
    "    time.sleep(3)    "
   ]
  },
  {
   "cell_type": "code",
   "execution_count": null,
   "metadata": {},
   "outputs": [],
   "source": []
  }
 ],
 "metadata": {
  "kernelspec": {
   "display_name": "Python 3",
   "language": "python",
   "name": "python3"
  },
  "language_info": {
   "codemirror_mode": {
    "name": "ipython",
    "version": 3
   },
   "file_extension": ".py",
   "mimetype": "text/x-python",
   "name": "python",
   "nbconvert_exporter": "python",
   "pygments_lexer": "ipython3",
   "version": "3.7.6"
  }
 },
 "nbformat": 4,
 "nbformat_minor": 4
}

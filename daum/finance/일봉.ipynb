{
 "cells": [
  {
   "cell_type": "markdown",
   "metadata": {},
   "source": [
    "## 데이터 확인\n",
    "다음 금융의 삼정전자 페이지로 이동해서 가져오려는 데이터를 확인합니다.\n",
    "**실행하는 시점에 따라 일봉은 변경될 수 있습니다.**\n",
    "- https://finance.daum.net/quotes/A005930#home"
   ]
  },
  {
   "cell_type": "markdown",
   "metadata": {},
   "source": [
    "<img src=\"image/00.png\" width=\"450\" height=\"300\" />"
   ]
  },
  {
   "cell_type": "markdown",
   "metadata": {},
   "source": [
    "삼성전자 페이지로 get 메서드를 사용해서 HTML을 가져오더라도 과거 일봉 데이터들을 찾을 수 없습니다. "
   ]
  },
  {
   "cell_type": "markdown",
   "metadata": {},
   "source": [
    "## 데이터 분석\n",
    "크롬 개발자 도구를 실행하고 새로고침 (F5)을 눌러 페이지를 다시 로딩합니다. 주고 받은 요청과 응답에 최근 종가 (48,800원)를 검색합니다. \n",
    "48,800을 검색하니 아무것도 나오지 않아 48800으로 콤마없이 검색했습니다. A005930, days, ranks, sectors 요청에서 종가가 검색되는 것을 알 수 있습니다. 크롬 개발자 도구에서 각각 Response를 확인해 봅시다."
   ]
  },
  {
   "cell_type": "markdown",
   "metadata": {},
   "source": [
    "<img src=\"image/01.png\" width=\"200\" height=\"250\" />"
   ]
  },
  {
   "cell_type": "markdown",
   "metadata": {},
   "source": [
    "#### A005930\n",
    "종목 summary로 간단한 가격 정보와 사업 내용 등을 조회합니다. 이는 페이지 상단의 투자 정보를 표현하는데 사용됩니다."
   ]
  },
  {
   "cell_type": "markdown",
   "metadata": {},
   "source": [
    "<img src=\"image/02.png\" width=\"170\" height=\"120\" />"
   ]
  },
  {
   "cell_type": "markdown",
   "metadata": {},
   "source": [
    "#### ranks\n",
    "10개의 조회 급등 종목의 등락폭을 표현합니다."
   ]
  },
  {
   "cell_type": "markdown",
   "metadata": {},
   "source": [
    "<img src=\"image/03.png\" width=\"180\" height=\"130\" />"
   ]
  },
  {
   "cell_type": "markdown",
   "metadata": {},
   "source": [
    "#### sectors\n",
    "동일 섹터 정보를 출력합니다. "
   ]
  },
  {
   "cell_type": "markdown",
   "metadata": {},
   "source": [
    "<img src=\"image/04.png\" width=\"500\" height=\"250\" />"
   ]
  },
  {
   "cell_type": "markdown",
   "metadata": {},
   "source": [
    "#### days\n",
    "일봉 데이터가 들어 있는 것을 알 수 있습니다. Headers Tab을 살펴보면 GET 메서드로 데이터를 요청하는 것을 알 수있습니다. "
   ]
  },
  {
   "cell_type": "markdown",
   "metadata": {},
   "source": [
    "<img src=\"image/05.png\" width=\"500\" height=\"250\" />"
   ]
  },
  {
   "cell_type": "markdown",
   "metadata": {},
   "source": [
    "그 결과 거래량과 종가 등이 JSON(파이썬 딕셔너리 형태의 문자열)으로 전달 됩니다"
   ]
  },
  {
   "cell_type": "markdown",
   "metadata": {},
   "source": [
    "<img src=\"image/06.png\" width=\"700\" height=\"70\" />"
   ]
  },
  {
   "cell_type": "markdown",
   "metadata": {},
   "source": [
    "## 데이터 요청\n",
    "크롬 개발자 도구에서 분석한 요청사항을 파이썬으로 표현합니다. headers 변수에는 개발자 도구의 Requests Headers에 있는 항목을 딕셔너리로 표현하면 됩니다. 이때 HTTP 프로토콜이 지원하지 않는 \":\"으로 시작하는 내용은 제외합니다. 아래 코드는 불필요한 값을 하나씩 지워가며 정리한 최종 결과입니다."
   ]
  },
  {
   "cell_type": "code",
   "execution_count": 5,
   "metadata": {},
   "outputs": [
    {
     "name": "stdout",
     "output_type": "stream",
     "text": [
      "{'data': [{'date': '2020-05-08 00:00:00', 'foreignOwnShares': 3285225824, 'foreignOwnSharesRate': 0.5503, 'foreignStraightPurchaseVolume': -2215231, 'institutionStraightPurchaseVolume': 1042243, 'institutionCumulativeStraightPurchaseVolume': -25718190, 'tradePrice': 48800.0, 'changePrice': 0.0, 'change': 'EVEN', 'accTradeVolume': 15267540, 'accTradePrice': 749723387270}, {'date': '2020-05-07 00:00:00', 'foreignOwnShares': 3287441055, 'foreignOwnSharesRate': 0.5507, 'foreignStraightPurchaseVolume': -1436754, 'institutionStraightPurchaseVolume': 101232, 'institutionCumulativeStraightPurchaseVolume': -26760433, 'tradePrice': 48800.0, 'changePrice': 400.0, 'change': 'FALL', 'accTradeVolume': 13799449, 'accTradePrice': 675508321160}, {'date': '2020-05-06 00:00:00', 'foreignOwnShares': 3288439782, 'foreignOwnSharesRate': 0.5508, 'foreignStraightPurchaseVolume': -1676942, 'institutionStraightPurchaseVolume': 999598, 'institutionCumulativeStraightPurchaseVolume': -26861665, 'tradePrice': 49200.0, 'changePrice': 700.0, 'change': 'RISE', 'accTradeVolume': 18008881, 'accTradePrice': 879437584770}, {'date': '2020-05-04 00:00:00', 'foreignOwnShares': 3290008482, 'foreignOwnSharesRate': 0.5511, 'foreignStraightPurchaseVolume': -5896678, 'institutionStraightPurchaseVolume': -5100257, 'institutionCumulativeStraightPurchaseVolume': -27861263, 'tradePrice': 48500.0, 'changePrice': 1500.0, 'change': 'FALL', 'accTradeVolume': 26013124, 'accTradePrice': 1267388893121}, {'date': '2020-04-29 00:00:00', 'foreignOwnShares': 3298091160, 'foreignOwnSharesRate': 0.5525, 'foreignStraightPurchaseVolume': 110873, 'institutionStraightPurchaseVolume': 389165, 'institutionCumulativeStraightPurchaseVolume': -22761006, 'tradePrice': 50000.0, 'changePrice': 100.0, 'change': 'FALL', 'accTradeVolume': 15558753, 'accTradePrice': 778418755650}]}\n"
     ]
    }
   ],
   "source": [
    "import requests\n",
    "\n",
    "url = \"https://finance.daum.net/api/investor/days?perPage=5&symbolCode=A005930\"\n",
    "\n",
    "headers = {\n",
    "    \"referer\": \"https://finance.daum.net/quotes/A005930?fbclid=IwAR270kGKgrdlmg3x1r7OhmG_ZhMA620Z4bWTIIDw7TH2zuKAzFEZxKWPHXk\",\n",
    "    \"user-agent\": \"Mozilla/5.0\"\n",
    "}\n",
    "resp = requests.get(url, headers=headers)\n",
    "\n",
    "result = resp.json()\n",
    "print(result)"
   ]
  },
  {
   "cell_type": "markdown",
   "metadata": {},
   "source": [
    "## 데이터 파싱\n",
    "서버가 반환하는 데이터가 HTML이 아니라 JSON(딕셔너리 형태의 문자열)입니다. 따라서 BeautifulSoup 모듈을 사용할 필요 없이 Response 객체의 json() 메서드로 딕셔너리 변환했습니다. 반복문으로 데이터를 하나씩 출력하면 다음과 같습니다. "
   ]
  },
  {
   "cell_type": "code",
   "execution_count": 6,
   "metadata": {},
   "outputs": [
    {
     "name": "stdout",
     "output_type": "stream",
     "text": [
      "2020-05-08 00:00:00 48800.0 15267540\n",
      "2020-05-07 00:00:00 48800.0 13799449\n",
      "2020-05-06 00:00:00 49200.0 18008881\n",
      "2020-05-04 00:00:00 48500.0 26013124\n",
      "2020-04-29 00:00:00 50000.0 15558753\n"
     ]
    }
   ],
   "source": [
    "for item in result['data']:\n",
    "    print(item['date'], item['tradePrice'], item['accTradeVolume'])"
   ]
  },
  {
   "cell_type": "markdown",
   "metadata": {},
   "source": [
    "일자 / 가격 / 거래량이 출렵됩니다."
   ]
  },
  {
   "cell_type": "markdown",
   "metadata": {},
   "source": [
    "5일의 데이터가 출력됐습니다. 더 많은 데이터를 조회할 수 없을까? 라는 생각으로 서버로 요청한 내용을 분석해 봅시다."
   ]
  },
  {
   "cell_type": "code",
   "execution_count": 8,
   "metadata": {},
   "outputs": [],
   "source": [
    "url = \"https://finance.daum.net/api/investor/days?perPage=5&symbolCode=A005930\""
   ]
  },
  {
   "cell_type": "markdown",
   "metadata": {},
   "source": [
    "url은 다음과 같이 해석 됩니다.  \n",
    "- https://finance.daum.net/api/investor/days 서버로 데이터를 요청함  \n",
    "- 이 때 다음 값을 전달 : perPage=5, symbolCode=A005930\n",
    "여기서 symbolCode는 티커를 의미하며 perPage의 변수가 요청하는 데이터의 갯수임을 알 수 있습니다."
   ]
  },
  {
   "cell_type": "markdown",
   "metadata": {},
   "source": [
    "url에서 perPage의 값을 10으로 변경하고 다음 코드를 실행하면 10개의 결과가 출력됩니다."
   ]
  },
  {
   "cell_type": "code",
   "execution_count": 10,
   "metadata": {},
   "outputs": [
    {
     "name": "stdout",
     "output_type": "stream",
     "text": [
      "2020-05-08 00:00:00 48800.0 15267540\n",
      "2020-05-07 00:00:00 48800.0 13799449\n",
      "2020-05-06 00:00:00 49200.0 18008881\n",
      "2020-05-04 00:00:00 48500.0 26013124\n",
      "2020-04-29 00:00:00 50000.0 15558753\n",
      "2020-04-28 00:00:00 50100.0 16062110\n",
      "2020-04-27 00:00:00 49850.0 14007456\n",
      "2020-04-24 00:00:00 49350.0 15555003\n",
      "2020-04-23 00:00:00 49850.0 18651296\n",
      "2020-04-22 00:00:00 49850.0 18539460\n"
     ]
    }
   ],
   "source": [
    "import requests\n",
    "\n",
    "url = \"https://finance.daum.net/api/investor/days?perPage=10&symbolCode=A005930\"\n",
    "\n",
    "headers = {\n",
    "    \"referer\": \"https://finance.daum.net/quotes/A005930?fbclid=IwAR270kGKgrdlmg3x1r7OhmG_ZhMA620Z4bWTIIDw7TH2zuKAzFEZxKWPHXk\",\n",
    "    \"user-agent\": \"Mozilla/5.0\"\n",
    "}\n",
    "resp = requests.get(url, headers=headers)\n",
    "\n",
    "result = resp.json()\n",
    "\n",
    "for item in result['data']:\n",
    "    print(item['date'], item['tradePrice'], item['accTradeVolume'])"
   ]
  },
  {
   "cell_type": "markdown",
   "metadata": {},
   "source": [
    "url과 요청하는 데이터를 분리해서 코드를 정리할 수도 있습니다. url의 요청 변수들을 딕셔너리로 변경하고 이를 get 메서드의 params 파라미터로 전달합니다"
   ]
  },
  {
   "cell_type": "code",
   "execution_count": 11,
   "metadata": {},
   "outputs": [
    {
     "name": "stdout",
     "output_type": "stream",
     "text": [
      "2020-05-08 00:00:00 48800.0 15267540\n",
      "2020-05-07 00:00:00 48800.0 13799449\n",
      "2020-05-06 00:00:00 49200.0 18008881\n",
      "2020-05-04 00:00:00 48500.0 26013124\n",
      "2020-04-29 00:00:00 50000.0 15558753\n",
      "2020-04-28 00:00:00 50100.0 16062110\n",
      "2020-04-27 00:00:00 49850.0 14007456\n",
      "2020-04-24 00:00:00 49350.0 15555003\n",
      "2020-04-23 00:00:00 49850.0 18651296\n",
      "2020-04-22 00:00:00 49850.0 18539460\n"
     ]
    }
   ],
   "source": [
    "import requests\n",
    "\n",
    "url = \"https://finance.daum.net/api/investor/days\"\n",
    "\n",
    "params = {\n",
    "    \"perPage\": 10,\n",
    "    \"symbolCode\": \"A005930\"\n",
    "}\n",
    "\n",
    "headers = {\n",
    "    \"referer\": \"https://finance.daum.net/quotes/A005930?fbclid=IwAR270kGKgrdlmg3x1r7OhmG_ZhMA620Z4bWTIIDw7TH2zuKAzFEZxKWPHXk\",\n",
    "    \"user-agent\": \"Mozilla/5.0\"\n",
    "}\n",
    "resp = requests.get(url, headers=headers, params=params)\n",
    "\n",
    "result = resp.json()\n",
    "\n",
    "for item in result['data']:\n",
    "    print(item['date'], item['tradePrice'], item['accTradeVolume'])"
   ]
  },
  {
   "cell_type": "code",
   "execution_count": null,
   "metadata": {},
   "outputs": [],
   "source": []
  }
 ],
 "metadata": {
  "kernelspec": {
   "display_name": "Python 3",
   "language": "python",
   "name": "python3"
  },
  "language_info": {
   "codemirror_mode": {
    "name": "ipython",
    "version": 3
   },
   "file_extension": ".py",
   "mimetype": "text/x-python",
   "name": "python",
   "nbconvert_exporter": "python",
   "pygments_lexer": "ipython3",
   "version": "3.7.6"
  }
 },
 "nbformat": 4,
 "nbformat_minor": 4
}

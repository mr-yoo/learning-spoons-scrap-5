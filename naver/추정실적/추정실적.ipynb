{
 "cells": [
  {
   "cell_type": "markdown",
   "metadata": {},
   "source": [
    "## 데이터 확인\n",
    "네이버 금융 삼성전자 페이지에서 가운데 있는 종목 분석 페이지로 이동합니다. "
   ]
  },
  {
   "cell_type": "markdown",
   "metadata": {},
   "source": [
    "<img src=\"image/00.png\" width=\"350\" height=\"250\" />"
   ]
  },
  {
   "cell_type": "markdown",
   "metadata": {},
   "source": [
    "스크롤을 내려보면 하단에 \"추정실적 컨센서스\" 데이터가 있습니다. "
   ]
  },
  {
   "cell_type": "markdown",
   "metadata": {},
   "source": [
    "<img src=\"image/01.png\" width=\"500\" height=\"300\" />"
   ]
  },
  {
   "cell_type": "markdown",
   "metadata": {},
   "source": [
    "삼성전자의 메인 페이지에서 종목 분석 페이지로 이동했음에도 URL의 변경없이 데이터만 변경됐습니다. 여기에서 웹 서버와 데이터를 여러 번에 걸쳐 주고 받았을 것이라고 예측할 수 있습니다. 실제로 다음 코드의 실행결과를 참고하면 2017(A)를 HTML에서 데이터를 찾을 수 없습니다. "
   ]
  },
  {
   "cell_type": "code",
   "execution_count": 3,
   "metadata": {},
   "outputs": [
    {
     "name": "stdout",
     "output_type": "stream",
     "text": [
      "False\n"
     ]
    }
   ],
   "source": [
    "import requests\n",
    "\n",
    "url = \"https://finance.naver.com/item/main.nhn?code=005930#\"\n",
    "resp = requests.get(url)\n",
    "\n",
    "print(\"2017(A)\" in resp.text)"
   ]
  },
  {
   "cell_type": "markdown",
   "metadata": {},
   "source": [
    "## 데이터 분석\n",
    "크롬 개발자 도구를 실행하고 새로고침 (F5)을 눌러 페이지를 다시 로딩합니다. 주고 받은 요청과 응답에 2017(A)라는 값이 들어 있는 항목을 검색합니다. "
   ]
  },
  {
   "cell_type": "markdown",
   "metadata": {},
   "source": [
    "<img src=\"image/02.png\" width=\"400\" height=\"250\" />"
   ]
  },
  {
   "cell_type": "markdown",
   "metadata": {},
   "source": [
    "    검색된 항목의 요청을 파이썬으로 표현하면 Response Tab에 있는 다음 HTML이 반환되고 43라인 근처에 원하는 데이터가 있겠죠?"
   ]
  },
  {
   "cell_type": "markdown",
   "metadata": {},
   "source": [
    "<img src=\"image/03.png\" width=\"300\" height=\"200\" />"
   ]
  },
  {
   "cell_type": "markdown",
   "metadata": {},
   "source": [
    "## 데이터 요청\n",
    "cF1002.aspx의 요청사항을 파이썬으로 표현합니다. 얻어온 데이터에 2017(A)가 포함된 것을 알 수 있습니다."
   ]
  },
  {
   "cell_type": "code",
   "execution_count": 4,
   "metadata": {},
   "outputs": [
    {
     "name": "stdout",
     "output_type": "stream",
     "text": [
      "True\n"
     ]
    }
   ],
   "source": [
    "import requests\n",
    "\n",
    "url = \"https://navercomp.wisereport.co.kr/v2/company/cF1002.aspx?cmp_cd=005930&finGubun=MAIN&frq=0\"\n",
    "resp = requests.get(url)\n",
    "\n",
    "print(\"2017(A)\" in resp.text)"
   ]
  },
  {
   "cell_type": "markdown",
   "metadata": {},
   "source": [
    "## 데이터 파싱\n",
    "BeautifulSoup 모듈을 사용해서 원하는 데이터를 선택합니다. 추정실적 컨센서스에서 재무 년월과 EV/EBITDA를 가져와 봅시다. Response Tab의 HTML 코드를 발췌하면 다음과 같습니다. "
   ]
  },
  {
   "cell_type": "raw",
   "metadata": {},
   "source": [
    "<table class=\"gHead01 all-width\" id=\"cTB25\" summary=\"3년간 실적 및 2년간 추정 데이타(매출액, 매출액 전년대비, 영업이익, 영업이익 전년대비, 당기순이익, 당기순이익 전년대비, EPS, PER, PBR, ROE, EV/EVITDA, 순부채비율)를 제공합니다.\">\n",
    "        <caption class=\"blind\">3년간 실적 및 2년간 추정데이타 목록</caption>\n",
    "        <colgroup>\n",
    "            <col width=\"70\" />\n",
    "            <col width=\"60\" />\n",
    "            <col width=\"40\" />\n",
    "            <col width=\"60\" />\n",
    "            <col width=\"*\" />\n",
    "            <col width=\"60\" />\n",
    "            <col width=\"40\" span=\"3\" />\n",
    "            <col width=\"70\" span=\"3\" />\n",
    "        </colgroup>\n",
    "        <thead>\n",
    "\t\t\t<tr>\n",
    "\t\t\t\t<th scope=\"col\" rowspan=\"2\">재무년월</th>\n",
    "\t\t\t\t<th scope=\"col\" colspan=\"2\" class=\"line-bottom\">매출액<span class=\"span-sub\">(억원, %)</span></th>\n",
    "\t\t\t\t<th scope=\"col\" rowspan=\"2\" class=\"line-bottom\">영업이익<br /><span class=\"span-sub\">(억원, %)</span></th>\n",
    "\t\t\t\t<th scope=\"col\" rowspan=\"2\" class=\"line-bottom\">당기순이익<br /><span class=\"span-sub\">(억원, %)</span></th>\n",
    "\t\t\t\t<th scope=\"col\" rowspan=\"2\">EPS<br/>\n",
    "\t\t\t\t\t<span class=\"span-sub\">(원)</span></th>\n",
    "\t\t\t\t<th scope=\"col\" rowspan=\"2\">PER<br/>\n",
    "\t\t\t\t\t<span class=\"span-sub\">(배)</span></th>\n",
    "\t\t\t\t<th scope=\"col\" rowspan=\"2\">PBR<br/>\n",
    "\t\t\t\t\t<span class=\"span-sub\">(배)</span></th>\n",
    "\t\t\t\t<th scope=\"col\" rowspan=\"2\">ROE<br/>\n",
    "\t\t\t\t\t<span class=\"span-sub\">(%)</span></th>\n",
    "\t\t\t\t<th scope=\"col\" rowspan=\"2\">EV/EBITDA<br/>\n",
    "\t\t\t\t\t<span class=\"span-sub\">(배)</span></th>\n",
    "\t\t\t\t<th scope=\"col\" rowspan=\"2\">순부채비율<br/>\n",
    "\t\t\t\t\t<span class=\"span-sub\">(%)</span></th>\n",
    "                <th scope=\"col\" rowspan=\"2\" class=\"endLine\">주재무제표</th>\n",
    "\t\t\t</tr>\n",
    "\t\t\t<tr>\n",
    "\t\t\t\t<th>금액</th>\n",
    "\t\t\t\t<th>YoY</th>\n",
    "\t\t\t</tr>\n",
    "        </thead>\n",
    "        <tbody>\n",
    "<tr ><td class='center'>2017(A)</td>\n",
    "<td class='num'>2,395,754</td>\n",
    "<td class='num'><span class=\"cBk\">18.68</span></td>\n",
    "<td class='num'>536,450</td>\n",
    "<td class='num'>413,446</td>\n",
    "<td class='num'>5,421</td>\n",
    "<td class='num'>9.40</td>\n",
    "<td class='num'>1.67</td>\n",
    "<td class='num'>21.01</td>\n",
    "<td class='num'>4.00</td>\n",
    "<td class='num'><span class=\"cUp\">-30.01</span></td>\n",
    "<td class='center noline-right'>IFRS연결</td>\n",
    "</tr><tr ><td class='center'>2018(A)</td>\n",
    "<td class='num'>2,437,714</td>\n",
    "<td class='num'><span class=\"cBk\">1.75</span></td>\n",
    "<td class='num'>588,867</td>\n",
    "<td class='num'>438,909</td>\n",
    "<td class='num'>6,024</td>\n",
    "<td class='num'>6.42</td>\n",
    "<td class='num'>1.10</td>\n",
    "<td class='num'>19.63</td>\n",
    "<td class='num'>2.00</td>\n",
    "<td class='num'><span class=\"cUp\">-34.82</span></td>\n",
    "<td class='center noline-right'>IFRS연결</td>\n",
    "</tr><tr ><td class='center'>2019(A)</td>\n",
    "<td class='num'>2,304,009</td>\n",
    "<td class='num'><span class=\"cUp\">-5.48</span></td>\n",
    "<td class='num'>277,685</td>\n",
    "<td class='num'>215,051</td>\n",
    "<td class='num'>3,166</td>\n",
    "<td class='num'>17.63</td>\n",
    "<td class='num'>1.49</td>\n",
    "<td class='num'>8.69</td>\n",
    "<td class='num'>4.88</td>\n",
    "<td class='num'><span class=\"cUp\">-34.38</span></td>\n",
    "<td class='center noline-right'>IFRS연결</td>\n",
    "</tr><tr style='border-top: solid 2px #d9d9d9;background-color:#fdf8ce'><td class='center'>2020(E)</td>\n",
    "<td class='num'>2,363,854</td>\n",
    "<td class='num'><span class=\"cBk\">2.60</span></td>\n",
    "<td class='num'>345,497</td>\n",
    "<td class='num'>266,377</td>\n",
    "<td class='num'>3,922</td>\n",
    "<td class='num'>12.75</td>\n",
    "<td class='num'>1.25</td>\n",
    "<td class='num'>10.11</td>\n",
    "<td class='num'>3.69</td>\n",
    "<td class='num'><span class=\"cUp\">-35.57</span></td>\n",
    "<td class='center noline-right'>IFRS연결</td>\n",
    "</tr><tr style='background-color:#fdf8ce'><td class='center'>2021(E)</td>\n",
    "<td class='num'>2,623,528</td>\n",
    "<td class='num'><span class=\"cBk\">10.99</span></td>\n",
    "<td class='num'>483,703</td>\n",
    "<td class='num'>369,236</td>\n",
    "<td class='num'>5,436</td>\n",
    "<td class='num'>9.20</td>\n",
    "<td class='num'>1.14</td>\n",
    "<td class='num'>12.94</td>\n",
    "<td class='num'>2.79</td>\n",
    "<td class='num'><span class=\"cUp\">-37.49</span></td>\n",
    "<td class='center noline-right'>IFRS연결</td>\n",
    "</tr>\n",
    "</tbody>\n",
    "</table>"
   ]
  },
  {
   "cell_type": "code",
   "execution_count": 11,
   "metadata": {},
   "outputs": [
    {
     "name": "stdout",
     "output_type": "stream",
     "text": [
      "2017(A)\n",
      "2018(A)\n",
      "2019(A)\n",
      "2020(E)\n",
      "2021(E)\n",
      "4.00\n",
      "2.00\n",
      "4.88\n",
      "3.69\n",
      "2.79\n"
     ]
    }
   ],
   "source": [
    "from bs4 import BeautifulSoup\n",
    "\n",
    "\n",
    "bs = BeautifulSoup(resp.text, 'html5lib')\n",
    "\n",
    "# 재무 년월\n",
    "sel = \"tr > td:nth-child(1)\"\n",
    "result = bs.select(sel) \n",
    "for data in result:\n",
    "    print (data.text)\n",
    "\n",
    "# EV/EBITDA\n",
    "sel = \"tr > td:nth-child(10)\"\n",
    "result = bs.select(sel) \n",
    "for data in result:\n",
    "    print (data.text)"
   ]
  },
  {
   "cell_type": "markdown",
   "metadata": {},
   "source": [
    "스크래핑한 결과를 예쁘게 정렬해서 출력하려면 다음과 같이 리스트에 데이터를 저장해 놔야 합니다. "
   ]
  },
  {
   "cell_type": "code",
   "execution_count": 20,
   "metadata": {},
   "outputs": [
    {
     "name": "stdout",
     "output_type": "stream",
     "text": [
      "2017(A) : 4.00\n",
      "2018(A) : 2.00\n",
      "2019(A) : 4.88\n",
      "2020(E) : 3.69\n",
      "2021(E) : 2.79\n"
     ]
    }
   ],
   "source": [
    "# 재무 년월\n",
    "year = []\n",
    "sel = \"tr > td:nth-child(1)\"\n",
    "result = bs.select(sel) \n",
    "for data in result:\n",
    "    year.append(data.text)    \n",
    "\n",
    "# EV/EBITDA\n",
    "ebitda = []\n",
    "sel = \"tr > td:nth-child(10)\"\n",
    "result = bs.select(sel) \n",
    "for data in result:\n",
    "    ebitda.append(data.text)    \n",
    "    \n",
    "# formatting\n",
    "for i in range(len(date)):\n",
    "    print(f\"{year[i]} : {ebitda[i]}\")"
   ]
  },
  {
   "cell_type": "code",
   "execution_count": null,
   "metadata": {},
   "outputs": [],
   "source": []
  }
 ],
 "metadata": {
  "kernelspec": {
   "display_name": "Python 3",
   "language": "python",
   "name": "python3"
  },
  "language_info": {
   "codemirror_mode": {
    "name": "ipython",
    "version": 3
   },
   "file_extension": ".py",
   "mimetype": "text/x-python",
   "name": "python",
   "nbconvert_exporter": "python",
   "pygments_lexer": "ipython3",
   "version": "3.7.6"
  }
 },
 "nbformat": 4,
 "nbformat_minor": 4
}

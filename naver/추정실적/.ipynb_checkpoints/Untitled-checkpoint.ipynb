{
 "cells": [
  {
   "cell_type": "markdown",
   "metadata": {},
   "source": [
    "## 데이터 확인\n",
    "네이버 금융 삼성전자 페이지에서 가운데 있는 종목 분석 페이지로 이동합니다. 하단의 추정실적 컨센서스를 스크래핑해 봅시다."
   ]
  },
  {
   "cell_type": "markdown",
   "metadata": {},
   "source": [
    "<img src=\"image/00.png\" width=500 height=300 />\n",
    "<img src=\"image/01.png\" width=500 height=300 />"
   ]
  },
  {
   "cell_type": "markdown",
   "metadata": {},
   "source": [
    "삼성전자의 메인 페이지에서 종목 분석 페이지로 이동했음에도 URL의 변경없이 데이터만 변경됐습니다. 여기에서 웹 서버와 데이터를 여러 번에 걸쳐 주고 받았을 것이라고 예측할 수 있습니다. 실제로 다음 코드를 실행하면 "
   ]
  },
  {
   "cell_type": "code",
   "execution_count": null,
   "metadata": {},
   "outputs": [],
   "source": [
    "import requests\n",
    "\n",
    "url = \"https://finance.naver.com/item/main.nhn?code=005930#\"\n",
    "resp = requests.get(url)\n",
    "\n",
    "print(\"598,848\" in resp.text)"
   ]
  }
 ],
 "metadata": {
  "kernelspec": {
   "display_name": "Python 3",
   "language": "python",
   "name": "python3"
  },
  "language_info": {
   "codemirror_mode": {
    "name": "ipython",
    "version": 3
   },
   "file_extension": ".py",
   "mimetype": "text/x-python",
   "name": "python",
   "nbconvert_exporter": "python",
   "pygments_lexer": "ipython3",
   "version": "3.7.6"
  }
 },
 "nbformat": 4,
 "nbformat_minor": 4
}
